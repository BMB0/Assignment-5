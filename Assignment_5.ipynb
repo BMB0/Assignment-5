{
 "cells": [
  {
   "cell_type": "markdown",
   "metadata": {},
   "source": [
    "# Import Libraries"
   ]
  },
  {
   "cell_type": "code",
   "execution_count": 3,
   "metadata": {},
   "outputs": [
    {
     "name": "stdout",
     "output_type": "stream",
     "text": [
      "2.9.1\n"
     ]
    }
   ],
   "source": [
    "# TensorFlow y tf.keras\n",
    "import tensorflow as tf\n",
    "from tensorflow import keras\n",
    "\n",
    "# Librerias de ayuda\n",
    "import numpy as np\n",
    "import matplotlib.pyplot as plt\n",
    "import pandas as pd\n",
    "\n",
    "print(tf.__version__)"
   ]
  },
  {
   "cell_type": "markdown",
   "metadata": {},
   "source": [
    "# Import Dataset from csv file"
   ]
  },
  {
   "cell_type": "code",
   "execution_count": 6,
   "metadata": {},
   "outputs": [
    {
     "name": "stdout",
     "output_type": "stream",
     "text": [
      "                     track_id                       artists  \\\n",
      "0      3txHZTpGeVASXa5ARwoRX6                        Frejat   \n",
      "1      2e7LBdeiidf0ZC5Qj52u0G                         STU48   \n",
      "2      0hlh787aY52rcNvJHnE0Ml             Mike NRG;Weapon X   \n",
      "3      3s067jTdOv8wnuUHeXdtjT        NICO Touches the Walls   \n",
      "4      4oE62AqzUuiwV09HGxiMlu       Edvard Grieg;Una Bourne   \n",
      "...                       ...                           ...   \n",
      "91195  0Y1hw2GXV8npQI7C21ZIT1                      Surfaces   \n",
      "91196  43QSsuxazI8xms29SYCtxh                 KANA-BOON;もっさ   \n",
      "91197  7nbj09isjVmgNYJ7eKBzyt                    Zach Bryan   \n",
      "91198  5bVUUTXB0Dg7EzuSZC57ek  Joey Montana;Sebastian Yatra   \n",
      "91199  2RjWCcfCOMzKeRJzeoe4h6            Noisia;The Upbeats   \n",
      "\n",
      "                                album_name  \\\n",
      "0            Frejat Ao Vivo No Rock In Rio   \n",
      "1                       無謀な夢は覚めることがない【劇場盤】   \n",
      "2         Lost in Dreams (Q-Base OST 2008)   \n",
      "3                                     オーロラ   \n",
      "4      Mozart, Liszt & Others: Piano Works   \n",
      "...                                    ...   \n",
      "91195                          Hidden Gems   \n",
      "91196     ないものねだり - Revenge THE FIRST TAKE   \n",
      "91197              Your Perfect Soundtrack   \n",
      "91198                 Regageton Para Niños   \n",
      "91199                           Dead Limit   \n",
      "\n",
      "                                            track_name  popularity  \\\n",
      "0                                Puro Êxtase - Ao Vivo          45   \n",
      "1                                         奇跡という名のストーリー          19   \n",
      "2                      Lost In Dreams - Weapon X Remix          23   \n",
      "3                                                ホログラム          56   \n",
      "4      Lyric Pieces I, Op. 12 (Excerpts): No. 6, Norsk           0   \n",
      "...                                                ...         ...   \n",
      "91195                                      Wave of You           0   \n",
      "91196                 ないものねだり - Revenge THE FIRST TAKE          58   \n",
      "91197                          Something in the Orange           0   \n",
      "91198                                  Suena El Dembow           1   \n",
      "91199                                       Dead Limit          44   \n",
      "\n",
      "       duration_ms  explicit  danceability  energy  key  loudness  mode  \\\n",
      "0           292186     False         0.571   0.924    9    -4.727     1   \n",
      "1           242099     False         0.368   0.826    6    -3.448     1   \n",
      "2           296360     False         0.547   0.867    6    -5.040     1   \n",
      "3           248906     False         0.388   0.894    0    -3.425     1   \n",
      "4            42306     False         0.345   0.236    2   -21.922     1   \n",
      "...            ...       ...           ...     ...  ...       ...   ...   \n",
      "91195       213842     False         0.695   0.656    1    -6.038     1   \n",
      "91196       256256     False         0.565   0.811    1    -3.745     0   \n",
      "91197       228013     False         0.369   0.192    4   -12.151     0   \n",
      "91198       195760     False         0.690   0.858    0    -4.431     1   \n",
      "91199       361395     False         0.608   0.975    1    -2.008     1   \n",
      "\n",
      "       speechiness  acousticness  instrumentalness  liveness  valence  \\\n",
      "0           0.1970      0.179000          0.000004    0.7190   0.5000   \n",
      "1           0.0421      0.057200          0.000000    0.2030   0.6630   \n",
      "2           0.0326      0.054600          0.489000    0.0735   0.2530   \n",
      "3           0.0455      0.000808          0.000000    0.1990   0.7240   \n",
      "4           0.0401      0.989000          0.952000    0.2280   0.3800   \n",
      "...            ...           ...               ...       ...      ...   \n",
      "91195       0.0489      0.057000          0.000000    0.2670   0.3460   \n",
      "91196       0.0570      0.014100          0.000000    0.0726   0.6910   \n",
      "91197       0.0400      0.555000          0.000008    0.0954   0.1480   \n",
      "91198       0.0529      0.189000          0.000000    0.1130   0.7550   \n",
      "91199       0.2870      0.004000          0.787000    0.1250   0.0691   \n",
      "\n",
      "         tempo  time_signature    track_genre  \n",
      "0      121.056               4          r-n-b  \n",
      "1       83.102               4         j-idol  \n",
      "2      163.002               4      hardstyle  \n",
      "3      156.120               4          anime  \n",
      "4      135.677               4      classical  \n",
      "...        ...             ...            ...  \n",
      "91195   90.986               4           soul  \n",
      "91196   87.508               4          j-pop  \n",
      "91197  175.212               3        country  \n",
      "91198   91.884               4      reggaeton  \n",
      "91199  172.106               4  drum-and-bass  \n",
      "\n",
      "[91200 rows x 20 columns]\n"
     ]
    }
   ],
   "source": [
    "df = pd.read_csv(r'Dataset\\dataset-song-genre.csv')\n",
    "print(df)"
   ]
  },
  {
   "cell_type": "code",
   "execution_count": 7,
   "metadata": {},
   "outputs": [
    {
     "data": {
      "text/plain": [
       "(91200, 20)"
      ]
     },
     "execution_count": 7,
     "metadata": {},
     "output_type": "execute_result"
    }
   ],
   "source": [
    "df.shape"
   ]
  }
 ],
 "metadata": {
  "kernelspec": {
   "display_name": "Python 3.9.13 ('tf')",
   "language": "python",
   "name": "python3"
  },
  "language_info": {
   "codemirror_mode": {
    "name": "ipython",
    "version": 3
   },
   "file_extension": ".py",
   "mimetype": "text/x-python",
   "name": "python",
   "nbconvert_exporter": "python",
   "pygments_lexer": "ipython3",
   "version": "3.9.13"
  },
  "orig_nbformat": 4,
  "vscode": {
   "interpreter": {
    "hash": "549ee6474f3635554b0efff06d824c6b1d3bec6cd410a28d5d338d6702102a07"
   }
  }
 },
 "nbformat": 4,
 "nbformat_minor": 2
}
